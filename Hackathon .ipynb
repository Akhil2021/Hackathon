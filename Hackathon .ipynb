{
 "cells": [
  {
   "cell_type": "code",
   "execution_count": 1,
   "metadata": {},
   "outputs": [
    {
     "name": "stderr",
     "output_type": "stream",
     "text": [
      "Using TensorFlow backend.\n"
     ]
    }
   ],
   "source": [
    "from keras.models import Sequential\n",
    "from keras.layers import Dense\n",
    "from keras.layers import Convolution2D\n",
    "from keras.layers import MaxPooling2D\n",
    "from keras.layers import Flatten"
   ]
  },
  {
   "cell_type": "code",
   "execution_count": 2,
   "metadata": {},
   "outputs": [],
   "source": [
    "model=Sequential()"
   ]
  },
  {
   "cell_type": "code",
   "execution_count": 3,
   "metadata": {},
   "outputs": [
    {
     "name": "stdout",
     "output_type": "stream",
     "text": [
      "WARNING:tensorflow:From C:\\Users\\Akhil\\Anaconda3\\lib\\site-packages\\tensorflow\\python\\framework\\op_def_library.py:263: colocate_with (from tensorflow.python.framework.ops) is deprecated and will be removed in a future version.\n",
      "Instructions for updating:\n",
      "Colocations handled automatically by placer.\n"
     ]
    }
   ],
   "source": [
    "model.add(Convolution2D(32,(3,3),input_shape=(64,64,3),activation=\"relu\"))"
   ]
  },
  {
   "cell_type": "code",
   "execution_count": 4,
   "metadata": {},
   "outputs": [],
   "source": [
    "model.add(MaxPooling2D(pool_size = (2, 2)))"
   ]
  },
  {
   "cell_type": "code",
   "execution_count": 5,
   "metadata": {},
   "outputs": [],
   "source": [
    "model.add(Flatten())"
   ]
  },
  {
   "cell_type": "code",
   "execution_count": 6,
   "metadata": {},
   "outputs": [
    {
     "name": "stderr",
     "output_type": "stream",
     "text": [
      "C:\\Users\\Akhil\\Anaconda3\\lib\\site-packages\\ipykernel_launcher.py:1: UserWarning: Update your `Dense` call to the Keras 2 API: `Dense(activation=\"relu\", units=120, kernel_initializer=\"uniform\")`\n",
      "  \"\"\"Entry point for launching an IPython kernel.\n"
     ]
    }
   ],
   "source": [
    "model.add(Dense(init=\"uniform\",activation=\"relu\",output_dim=120))"
   ]
  },
  {
   "cell_type": "code",
   "execution_count": 7,
   "metadata": {},
   "outputs": [
    {
     "name": "stderr",
     "output_type": "stream",
     "text": [
      "C:\\Users\\Akhil\\Anaconda3\\lib\\site-packages\\ipykernel_launcher.py:1: UserWarning: Update your `Dense` call to the Keras 2 API: `Dense(activation=\"sigmoid\", units=1, kernel_initializer=\"uniform\")`\n",
      "  \"\"\"Entry point for launching an IPython kernel.\n"
     ]
    }
   ],
   "source": [
    "model.add(Dense(init=\"uniform\",activation=\"sigmoid\",output_dim=1))\n"
   ]
  },
  {
   "cell_type": "code",
   "execution_count": 8,
   "metadata": {},
   "outputs": [],
   "source": [
    "model.compile(loss=\"binary_crossentropy\",optimizer=\"adam\",metrics=[\"accuracy\"])"
   ]
  },
  {
   "cell_type": "code",
   "execution_count": 16,
   "metadata": {},
   "outputs": [],
   "source": [
    "\n",
    "from keras.preprocessing.image import ImageDataGenerator"
   ]
  },
  {
   "cell_type": "code",
   "execution_count": 10,
   "metadata": {},
   "outputs": [],
   "source": [
    "train_datagen = ImageDataGenerator(rescale = 1./255,\n",
    "                                   shear_range = 0.2,\n",
    "                                   zoom_range = 0.2,\n",
    "                                   horizontal_flip = True)"
   ]
  },
  {
   "cell_type": "code",
   "execution_count": 11,
   "metadata": {},
   "outputs": [],
   "source": [
    "test_datagen = ImageDataGenerator(rescale = 1./255)"
   ]
  },
  {
   "cell_type": "code",
   "execution_count": 12,
   "metadata": {},
   "outputs": [
    {
     "name": "stdout",
     "output_type": "stream",
     "text": [
      "Found 10137 images belonging to 2 classes.\n"
     ]
    }
   ],
   "source": [
    "x_train = train_datagen.flow_from_directory('data/training',\n",
    "                                                 target_size = (64, 64),\n",
    "                                                 batch_size = 32,\n",
    "                                                     class_mode = 'binary')"
   ]
  },
  {
   "cell_type": "code",
   "execution_count": 13,
   "metadata": {},
   "outputs": [
    {
     "name": "stdout",
     "output_type": "stream",
     "text": [
      "{'female': 0, 'male': 1}\n"
     ]
    }
   ],
   "source": [
    "print(x_train.class_indices)"
   ]
  },
  {
   "cell_type": "code",
   "execution_count": 14,
   "metadata": {},
   "outputs": [
    {
     "name": "stdout",
     "output_type": "stream",
     "text": [
      "Found 3250 images belonging to 2 classes.\n"
     ]
    }
   ],
   "source": [
    "x_test = test_datagen.flow_from_directory('data/test',\n",
    "                                            target_size = (64, 64),\n",
    "                                            batch_size = 32,\n",
    "                                            class_mode = 'binary')"
   ]
  },
  {
   "cell_type": "code",
   "execution_count": 15,
   "metadata": {},
   "outputs": [
    {
     "name": "stdout",
     "output_type": "stream",
     "text": [
      "WARNING:tensorflow:From C:\\Users\\Akhil\\Anaconda3\\lib\\site-packages\\tensorflow\\python\\ops\\math_ops.py:3066: to_int32 (from tensorflow.python.ops.math_ops) is deprecated and will be removed in a future version.\n",
      "Instructions for updating:\n",
      "Use tf.cast instead.\n",
      "Epoch 1/50\n",
      "250/250 [==============================] - 150s 600ms/step - loss: 0.6663 - acc: 0.5911 - val_loss: 0.7374 - val_acc: 0.4762\n",
      "Epoch 2/50\n",
      "250/250 [==============================] - 153s 610ms/step - loss: 0.6202 - acc: 0.6573 - val_loss: 0.6398 - val_acc: 0.6314\n",
      "Epoch 3/50\n",
      "250/250 [==============================] - 152s 608ms/step - loss: 0.5977 - acc: 0.6701 - val_loss: 0.5851 - val_acc: 0.6806\n",
      "Epoch 4/50\n",
      "250/250 [==============================] - 152s 607ms/step - loss: 0.5790 - acc: 0.6819 - val_loss: 0.9151 - val_acc: 0.5140\n",
      "Epoch 5/50\n",
      "250/250 [==============================] - 154s 616ms/step - loss: 0.5697 - acc: 0.6911 - val_loss: 0.5149 - val_acc: 0.7388\n",
      "Epoch 6/50\n",
      "250/250 [==============================] - 153s 612ms/step - loss: 0.5539 - acc: 0.7043 - val_loss: 0.5448 - val_acc: 0.6954\n",
      "Epoch 7/50\n",
      "250/250 [==============================] - 166s 663ms/step - loss: 0.5400 - acc: 0.7143 - val_loss: 0.5725 - val_acc: 0.6708\n",
      "Epoch 8/50\n",
      "250/250 [==============================] - 150s 600ms/step - loss: 0.5319 - acc: 0.7218 - val_loss: 0.4793 - val_acc: 0.7639\n",
      "Epoch 9/50\n",
      "250/250 [==============================] - 157s 626ms/step - loss: 0.5368 - acc: 0.7172 - val_loss: 0.5627 - val_acc: 0.7018\n",
      "Epoch 10/50\n",
      "250/250 [==============================] - 151s 602ms/step - loss: 0.5180 - acc: 0.7318 - val_loss: 0.5854 - val_acc: 0.6758\n",
      "Epoch 11/50\n",
      "250/250 [==============================] - 146s 586ms/step - loss: 0.5154 - acc: 0.7341 - val_loss: 0.5018 - val_acc: 0.7440\n",
      "Epoch 12/50\n",
      "250/250 [==============================] - 161s 642ms/step - loss: 0.5028 - acc: 0.7413 - val_loss: 0.4968 - val_acc: 0.7353\n",
      "Epoch 13/50\n",
      "250/250 [==============================] - 152s 608ms/step - loss: 0.4909 - acc: 0.7480 - val_loss: 0.5285 - val_acc: 0.7263\n",
      "Epoch 14/50\n",
      "250/250 [==============================] - 161s 644ms/step - loss: 0.4949 - acc: 0.7472 - val_loss: 0.4846 - val_acc: 0.7540\n",
      "Epoch 15/50\n",
      "250/250 [==============================] - 162s 646ms/step - loss: 0.4842 - acc: 0.7535 - val_loss: 0.5473 - val_acc: 0.7153\n",
      "Epoch 16/50\n",
      "250/250 [==============================] - 151s 603ms/step - loss: 0.4754 - acc: 0.7639 - val_loss: 0.4721 - val_acc: 0.7649\n",
      "Epoch 17/50\n",
      "250/250 [==============================] - 164s 658ms/step - loss: 0.4653 - acc: 0.7693 - val_loss: 0.5219 - val_acc: 0.7283\n",
      "Epoch 18/50\n",
      "250/250 [==============================] - 164s 657ms/step - loss: 0.4717 - acc: 0.7664 - val_loss: 0.5551 - val_acc: 0.7153\n",
      "Epoch 19/50\n",
      "250/250 [==============================] - 158s 631ms/step - loss: 0.4606 - acc: 0.7728 - val_loss: 0.5099 - val_acc: 0.7431\n",
      "Epoch 20/50\n",
      "250/250 [==============================] - 148s 594ms/step - loss: 0.4529 - acc: 0.7749 - val_loss: 0.5446 - val_acc: 0.7313\n",
      "Epoch 21/50\n",
      "250/250 [==============================] - 151s 606ms/step - loss: 0.4432 - acc: 0.7810 - val_loss: 0.5212 - val_acc: 0.7411\n",
      "Epoch 22/50\n",
      "250/250 [==============================] - 148s 592ms/step - loss: 0.4205 - acc: 0.7945 - val_loss: 0.5176 - val_acc: 0.7493\n",
      "Epoch 23/50\n",
      "250/250 [==============================] - 158s 630ms/step - loss: 0.4395 - acc: 0.7879 - val_loss: 0.5327 - val_acc: 0.7502\n",
      "Epoch 24/50\n",
      "250/250 [==============================] - 149s 596ms/step - loss: 0.4327 - acc: 0.7910 - val_loss: 0.5685 - val_acc: 0.7217\n",
      "Epoch 25/50\n",
      "250/250 [==============================] - 167s 667ms/step - loss: 0.4170 - acc: 0.7987 - val_loss: 0.5186 - val_acc: 0.7547\n",
      "Epoch 26/50\n",
      "250/250 [==============================] - 149s 595ms/step - loss: 0.4111 - acc: 0.8014 - val_loss: 0.5643 - val_acc: 0.7213\n",
      "Epoch 27/50\n",
      "250/250 [==============================] - 152s 607ms/step - loss: 0.4057 - acc: 0.8059 - val_loss: 0.6056 - val_acc: 0.7277\n",
      "Epoch 28/50\n",
      "250/250 [==============================] - 175s 701ms/step - loss: 0.3945 - acc: 0.8106 - val_loss: 0.5721 - val_acc: 0.7348\n",
      "Epoch 29/50\n",
      "250/250 [==============================] - 164s 654ms/step - loss: 0.3930 - acc: 0.8106 - val_loss: 0.5785 - val_acc: 0.7431\n",
      "Epoch 30/50\n",
      "250/250 [==============================] - 148s 593ms/step - loss: 0.3829 - acc: 0.8180 - val_loss: 0.5777 - val_acc: 0.7463\n",
      "Epoch 31/50\n",
      "250/250 [==============================] - 149s 597ms/step - loss: 0.3810 - acc: 0.8227 - val_loss: 0.5598 - val_acc: 0.7557\n",
      "Epoch 32/50\n",
      "250/250 [==============================] - 148s 593ms/step - loss: 0.3778 - acc: 0.8226 - val_loss: 0.5652 - val_acc: 0.7550\n",
      "Epoch 33/50\n",
      "250/250 [==============================] - 151s 605ms/step - loss: 0.3708 - acc: 0.8274 - val_loss: 0.5446 - val_acc: 0.7657\n",
      "Epoch 34/50\n",
      "250/250 [==============================] - 151s 604ms/step - loss: 0.3612 - acc: 0.8367 - val_loss: 0.6217 - val_acc: 0.7448\n",
      "Epoch 35/50\n",
      "250/250 [==============================] - 156s 625ms/step - loss: 0.3628 - acc: 0.8333 - val_loss: 0.5859 - val_acc: 0.7391\n",
      "Epoch 36/50\n",
      "250/250 [==============================] - 166s 663ms/step - loss: 0.3474 - acc: 0.8447 - val_loss: 0.5498 - val_acc: 0.7657\n",
      "Epoch 37/50\n",
      "250/250 [==============================] - 144s 575ms/step - loss: 0.3456 - acc: 0.8419 - val_loss: 0.5550 - val_acc: 0.7500\n",
      "Epoch 38/50\n",
      "250/250 [==============================] - 150s 598ms/step - loss: 0.3410 - acc: 0.8427 - val_loss: 0.6609 - val_acc: 0.7203\n",
      "Epoch 39/50\n",
      "250/250 [==============================] - 160s 639ms/step - loss: 0.3409 - acc: 0.8477 - val_loss: 0.6025 - val_acc: 0.7532\n",
      "Epoch 40/50\n",
      "250/250 [==============================] - 160s 642ms/step - loss: 0.3277 - acc: 0.8481 - val_loss: 0.5941 - val_acc: 0.7416\n",
      "Epoch 41/50\n",
      "250/250 [==============================] - 152s 608ms/step - loss: 0.3301 - acc: 0.8501 - val_loss: 0.6143 - val_acc: 0.7597\n",
      "Epoch 42/50\n",
      "250/250 [==============================] - 158s 634ms/step - loss: 0.3253 - acc: 0.8513 - val_loss: 0.7567 - val_acc: 0.6979\n",
      "Epoch 43/50\n",
      "250/250 [==============================] - 172s 689ms/step - loss: 0.3188 - acc: 0.8580 - val_loss: 0.6058 - val_acc: 0.7478\n",
      "Epoch 44/50\n",
      "250/250 [==============================] - 151s 605ms/step - loss: 0.3057 - acc: 0.8649 - val_loss: 0.6090 - val_acc: 0.7562\n",
      "Epoch 45/50\n",
      "250/250 [==============================] - 148s 593ms/step - loss: 0.3042 - acc: 0.8669 - val_loss: 0.6325 - val_acc: 0.7505\n",
      "Epoch 46/50\n",
      "250/250 [==============================] - 145s 579ms/step - loss: 0.3065 - acc: 0.8601 - val_loss: 0.5964 - val_acc: 0.7622\n",
      "Epoch 47/50\n",
      "250/250 [==============================] - 156s 624ms/step - loss: 0.3057 - acc: 0.8650 - val_loss: 0.6922 - val_acc: 0.7313\n",
      "Epoch 48/50\n",
      "250/250 [==============================] - 149s 594ms/step - loss: 0.2878 - acc: 0.8738 - val_loss: 0.6770 - val_acc: 0.7495\n",
      "Epoch 49/50\n",
      "250/250 [==============================] - 162s 646ms/step - loss: 0.2912 - acc: 0.8749 - val_loss: 0.6248 - val_acc: 0.7483\n",
      "Epoch 50/50\n",
      "250/250 [==============================] - 177s 707ms/step - loss: 0.2766 - acc: 0.8809 - val_loss: 0.5862 - val_acc: 0.7604\n"
     ]
    },
    {
     "data": {
      "text/plain": [
       "<keras.callbacks.History at 0x10dd16c3da0>"
      ]
     },
     "execution_count": 15,
     "metadata": {},
     "output_type": "execute_result"
    }
   ],
   "source": [
    "model.fit_generator(x_train,\n",
    "                         steps_per_epoch = 250,\n",
    "                         epochs = 50,\n",
    "                         validation_data = x_test,\n",
    "                         validation_steps = 63)"
   ]
  },
  {
   "cell_type": "markdown",
   "metadata": {},
   "source": [
    "###### "
   ]
  }
 ],
 "metadata": {
  "kernelspec": {
   "display_name": "Python 3",
   "language": "python",
   "name": "python3"
  },
  "language_info": {
   "codemirror_mode": {
    "name": "ipython",
    "version": 3
   },
   "file_extension": ".py",
   "mimetype": "text/x-python",
   "name": "python",
   "nbconvert_exporter": "python",
   "pygments_lexer": "ipython3",
   "version": "3.7.3"
  }
 },
 "nbformat": 4,
 "nbformat_minor": 2
}
